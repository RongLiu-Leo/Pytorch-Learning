{
 "cells": [
  {
   "cell_type": "markdown",
   "metadata": {},
   "source": [
    "# PyTorch Fundamentals"
   ]
  },
  {
   "cell_type": "markdown",
   "metadata": {},
   "source": [
    "## 1. Import libraries"
   ]
  },
  {
   "cell_type": "code",
   "execution_count": 1,
   "metadata": {},
   "outputs": [
    {
     "data": {
      "text/plain": [
       "'1.13.0'"
      ]
     },
     "execution_count": 1,
     "metadata": {},
     "output_type": "execute_result"
    }
   ],
   "source": [
    "import torch\n",
    "import numpy as np\n",
    "\n",
    "torch.__version__"
   ]
  },
  {
   "cell_type": "markdown",
   "metadata": {},
   "source": [
    "## 2. Introdunction to Tensors\n",
    "\n",
    "**Note:** Three common errors:\n",
    "1. Tensors with incorrect datatype\n",
    "2. Tensors with unmatched shape\n",
    "3. Tensors running on the different devices"
   ]
  },
  {
   "cell_type": "markdown",
   "metadata": {},
   "source": [
    "### 3. Tensor creation\n"
   ]
  },
  {
   "cell_type": "markdown",
   "metadata": {},
   "source": [
    "### 3.1 Creating tensors using [`torch.tensor()`](https://pytorch.org/docs/stable/tensors.html)."
   ]
  },
  {
   "cell_type": "code",
   "execution_count": 2,
   "metadata": {},
   "outputs": [
    {
     "data": {
      "text/plain": [
       "tensor(7)"
      ]
     },
     "execution_count": 2,
     "metadata": {},
     "output_type": "execute_result"
    }
   ],
   "source": [
    "#Scalar\n",
    "s = torch.tensor(7)\n",
    "s"
   ]
  },
  {
   "cell_type": "code",
   "execution_count": 3,
   "metadata": {},
   "outputs": [
    {
     "data": {
      "text/plain": [
       "tensor([1, 2])"
      ]
     },
     "execution_count": 3,
     "metadata": {},
     "output_type": "execute_result"
    }
   ],
   "source": [
    "#Vector\n",
    "v = torch.tensor([1,2])\n",
    "v"
   ]
  },
  {
   "cell_type": "code",
   "execution_count": 4,
   "metadata": {},
   "outputs": [
    {
     "data": {
      "text/plain": [
       "tensor([[1, 2],\n",
       "        [3, 4]])"
      ]
     },
     "execution_count": 4,
     "metadata": {},
     "output_type": "execute_result"
    }
   ],
   "source": [
    "#Matrix\n",
    "m = torch.tensor([[1,2],\n",
    "                  [3,4]])\n",
    "m"
   ]
  },
  {
   "cell_type": "code",
   "execution_count": 5,
   "metadata": {},
   "outputs": [
    {
     "data": {
      "text/plain": [
       "tensor([[[1, 2, 3],\n",
       "         [4, 5, 6],\n",
       "         [7, 8, 9]]])"
      ]
     },
     "execution_count": 5,
     "metadata": {},
     "output_type": "execute_result"
    }
   ],
   "source": [
    "#Tensor\n",
    "t = torch.tensor([[[1,2,3],\n",
    "                    [4,5,6],\n",
    "                    [7,8,9]]])\n",
    "t"
   ]
  },
  {
   "cell_type": "markdown",
   "metadata": {},
   "source": [
    "### 3.2 Creating random tensors\n",
    "Initialize tensors with random numbers.\n",
    "- [`torch.rand()`](https://pytorch.org/docs/stable/generated/torch.rand.html) returns a tensor filled with random numbers from a **uniform distribution** on the interval [0,1).\n",
    "- [`torch.randint()`](https://pytorch.org/docs/stable/generated/torch.randint.html) returns a tensor filled with **random integers generated uniformly** between [low, high).\n",
    "- [`torch.randn()`](https://pytorch.org/docs/stable/generated/torch.randn.html)\n",
    "returns a tensor filled with random numbers from a **standard normal distribution**.\n",
    "- [`torch.randperm()`](https://pytorch.org/docs/stable/generated/torch.randperm.html) returns a **random permutation of integers** from [0,n).\n",
    "\n"
   ]
  },
  {
   "cell_type": "code",
   "execution_count": 6,
   "metadata": {},
   "outputs": [
    {
     "name": "stdout",
     "output_type": "stream",
     "text": [
      "tensor([0.4931, 0.4233, 0.1178, 0.6347])\n",
      "tensor([[0.8703, 0.0044, 0.4858],\n",
      "        [0.0602, 0.6128, 0.6620]])\n"
     ]
    }
   ],
   "source": [
    "#input size\n",
    "print(torch.rand(4))\n",
    "print(torch.rand(2, 3))"
   ]
  },
  {
   "cell_type": "code",
   "execution_count": 7,
   "metadata": {},
   "outputs": [
    {
     "name": "stdout",
     "output_type": "stream",
     "text": [
      "tensor([3, 3, 4])\n",
      "tensor([[7, 4],\n",
      "        [6, 8]])\n"
     ]
    }
   ],
   "source": [
    "#input low, high, size. default low = 0.\n",
    "print(torch.randint(3, 5, (3,)))\n",
    "print(torch.randint(10, (2, 2)))"
   ]
  },
  {
   "cell_type": "code",
   "execution_count": 8,
   "metadata": {},
   "outputs": [
    {
     "name": "stdout",
     "output_type": "stream",
     "text": [
      "tensor([ 0.1390,  1.2336, -0.8316, -0.1302])\n",
      "tensor([[-1.3044,  1.1268, -0.0298],\n",
      "        [ 0.2807,  1.0098,  0.6935]])\n"
     ]
    }
   ],
   "source": [
    "#input size\n",
    "print(torch.randn(4))\n",
    "print(torch.randn(2, 3))"
   ]
  },
  {
   "cell_type": "code",
   "execution_count": 9,
   "metadata": {},
   "outputs": [
    {
     "name": "stdout",
     "output_type": "stream",
     "text": [
      "tensor([3, 2, 0, 1])\n"
     ]
    }
   ],
   "source": [
    "#input upper bound n (exclusive)\n",
    "print(torch.randperm(4))"
   ]
  },
  {
   "cell_type": "markdown",
   "metadata": {},
   "source": [
    "### 3.3 Zeros and ones and other values\n",
    "Initialize tensors with specific values.\n",
    "- [`torch.zeros()`](https://pytorch.org/docs/stable/generated/torch.zeros.html#torch.zeros) returns a tensor filled with **the scalar value 0**.\n",
    "- [`torch.ones()`](https://pytorch.org/docs/stable/generated/torch.ones.html#torch.ones) returns a tensor filled with **the scalar value 1**.\n",
    "- [`torch.full()`](https://pytorch.org/docs/stable/generated/torch.full.html#torch.full)\n",
    "returns a tensor filled with **fill_value**.\n",
    "\n",
    "\n"
   ]
  },
  {
   "cell_type": "code",
   "execution_count": 10,
   "metadata": {},
   "outputs": [
    {
     "name": "stdout",
     "output_type": "stream",
     "text": [
      "tensor([[0., 0., 0.],\n",
      "        [0., 0., 0.]])\n",
      "tensor([[1., 1., 1.],\n",
      "        [1., 1., 1.]])\n",
      "tensor([[3, 3, 3],\n",
      "        [3, 3, 3]])\n"
     ]
    }
   ],
   "source": [
    "print(torch.zeros(2, 3))\n",
    "print(torch.ones(2, 3))\n",
    "print(torch.full((2, 3), 3))\n"
   ]
  },
  {
   "cell_type": "markdown",
   "metadata": {},
   "source": [
    "### 3.4 Creating a range of tensors\n",
    "- [`torch.arange()`](https://pytorch.org/docs/stable/generated/torch.arange.html) returns a 1-D tensor of size $\\left\\lceil \\frac{\\text{end} - \\text{start}}{\\text{step}} \\right\\rceil$ with values from the interval `[start, end)` taken with common difference `step` beginning from `start`.\n",
    "- [`torch.linspace()`](https://pytorch.org/docs/stable/generated/torch.linspace.html#torch.linspace) creates a 1-D tensor of size steps whose values are evenly spaced from [`start`, `end`]."
   ]
  },
  {
   "cell_type": "code",
   "execution_count": 11,
   "metadata": {},
   "outputs": [
    {
     "name": "stdout",
     "output_type": "stream",
     "text": [
      "tensor([0, 1, 2, 3, 4])\n",
      "tensor([1, 2, 3])\n",
      "tensor([ 1,  8, 15, 22, 29, 36, 43, 50, 57, 64, 71, 78, 85, 92, 99])\n"
     ]
    }
   ],
   "source": [
    "#input start, end, step. default start = 0.\n",
    "print(torch.arange(5))\n",
    "print(torch.arange(1, 4))\n",
    "print(torch.arange(1, 100, 7))"
   ]
  },
  {
   "cell_type": "code",
   "execution_count": 12,
   "metadata": {},
   "outputs": [
    {
     "name": "stdout",
     "output_type": "stream",
     "text": [
      "tensor([ 3.0000,  4.7500,  6.5000,  8.2500, 10.0000])\n",
      "tensor([1., 2., 3., 4.])\n",
      "tensor([1.])\n"
     ]
    }
   ],
   "source": [
    "#input start, end, step\n",
    "print(torch.linspace(3, 10, 5))\n",
    "print(torch.linspace(1, 4, 4))\n",
    "print(torch.linspace(1, 100, 1))"
   ]
  },
  {
   "cell_type": "markdown",
   "metadata": {},
   "source": [
    "### 3.5 Creating tensors with tensor-like\n"
   ]
  },
  {
   "cell_type": "code",
   "execution_count": 13,
   "metadata": {},
   "outputs": [
    {
     "data": {
      "text/plain": [
       "(tensor([[[1, 2, 3],\n",
       "          [4, 5, 6],\n",
       "          [7, 8, 9]]]),\n",
       " torch.Size([1, 3, 3]))"
      ]
     },
     "execution_count": 13,
     "metadata": {},
     "output_type": "execute_result"
    }
   ],
   "source": [
    "t, t.shape"
   ]
  },
  {
   "cell_type": "code",
   "execution_count": 14,
   "metadata": {},
   "outputs": [
    {
     "name": "stdout",
     "output_type": "stream",
     "text": [
      "tensor([[[0, 0, 0],\n",
      "         [0, 0, 0],\n",
      "         [0, 0, 0]]])\n",
      "tensor([[[1, 1, 1],\n",
      "         [1, 1, 1],\n",
      "         [1, 1, 1]]])\n",
      "tensor([[[8, 8, 8],\n",
      "         [8, 8, 8],\n",
      "         [8, 8, 8]]])\n"
     ]
    }
   ],
   "source": [
    "print(torch.zeros_like(t))\n",
    "print(torch.ones_like(t))\n",
    "print(torch.full_like(t, fill_value = 8))\n"
   ]
  },
  {
   "cell_type": "markdown",
   "metadata": {},
   "source": [
    "## 4. Tensor attributes"
   ]
  },
  {
   "cell_type": "markdown",
   "metadata": {},
   "source": [
    "- `tensor.ndim` shows the dimention while `tensor.shape` shows the size/shape.\n",
    "\n",
    "- Intuitively, `tensor.ndim` is equal to the number left brackets at beginning."
   ]
  },
  {
   "cell_type": "code",
   "execution_count": 15,
   "metadata": {},
   "outputs": [
    {
     "name": "stdout",
     "output_type": "stream",
     "text": [
      "scalar\n",
      "tensor(7)\n",
      "0\n",
      "torch.Size([])\n",
      "\n",
      "vector\n",
      "tensor([1, 2])\n",
      "1\n",
      "torch.Size([2])\n",
      "\n",
      "matrix\n",
      "tensor([[1, 2],\n",
      "        [3, 4]])\n",
      "2\n",
      "torch.Size([2, 2])\n",
      "\n",
      "tensor\n",
      "tensor([[[1, 2, 3],\n",
      "         [4, 5, 6],\n",
      "         [7, 8, 9]]])\n",
      "3\n",
      "torch.Size([1, 3, 3])\n"
     ]
    }
   ],
   "source": [
    "print('scalar')\n",
    "print(s)\n",
    "print(s.ndim)\n",
    "print(s.shape)\n",
    "print()\n",
    "print('vector')\n",
    "print(v)\n",
    "print(v.ndim)\n",
    "print(v.shape)\n",
    "print()\n",
    "print('matrix')\n",
    "print(m)\n",
    "print(m.ndim)\n",
    "print(m.shape)\n",
    "print()\n",
    "print('tensor')\n",
    "print(t)\n",
    "print(t.ndim)\n",
    "print(t.shape)\n"
   ]
  },
  {
   "cell_type": "markdown",
   "metadata": {},
   "source": [
    "- `tensor.item()` converts one-element tensor to Python scalars"
   ]
  },
  {
   "cell_type": "code",
   "execution_count": 16,
   "metadata": {},
   "outputs": [
    {
     "data": {
      "text/plain": [
       "7"
      ]
     },
     "execution_count": 16,
     "metadata": {},
     "output_type": "execute_result"
    }
   ],
   "source": [
    "s.item()"
   ]
  },
  {
   "cell_type": "markdown",
   "metadata": {},
   "source": [
    "`tensor[]` index\n",
    "\n",
    "- `:` indicates the range. e.g. [start, end)\n",
    "\n",
    "- `,` splits the dims."
   ]
  },
  {
   "cell_type": "code",
   "execution_count": 17,
   "metadata": {},
   "outputs": [
    {
     "name": "stdout",
     "output_type": "stream",
     "text": [
      "tensor([1, 2])\n",
      "tensor([1, 3])\n"
     ]
    }
   ],
   "source": [
    "print(m[0])     #shows the first row, equals m[0,:]\n",
    "print(m[:,0])   #shows the first column"
   ]
  },
  {
   "cell_type": "code",
   "execution_count": 18,
   "metadata": {},
   "outputs": [
    {
     "name": "stdout",
     "output_type": "stream",
     "text": [
      "tensor([[1, 2, 3],\n",
      "        [4, 5, 6],\n",
      "        [7, 8, 9]])\n",
      "tensor([[1, 2, 3]])\n",
      "tensor([[1, 4, 7]])\n"
     ]
    }
   ],
   "source": [
    "print(t[0])     \n",
    "print(t[:,0])   \n",
    "print(t[:,:,0])"
   ]
  },
  {
   "cell_type": "markdown",
   "metadata": {},
   "source": [
    "- `tensor.dtype` shows the data type of the tensor. `tensor.type()` changes datatype.\n",
    "\n",
    "- `torch.device` is an object representing the device (`'cpu'` or `'cuda'`) on which a `torch.Tensor` is or will be allocated. `tensor.to()` changes the allocated device."
   ]
  },
  {
   "cell_type": "code",
   "execution_count": 19,
   "metadata": {},
   "outputs": [
    {
     "data": {
      "text/plain": [
       "(torch.int64, device(type='cpu'))"
      ]
     },
     "execution_count": 19,
     "metadata": {},
     "output_type": "execute_result"
    }
   ],
   "source": [
    "t.dtype, t.device"
   ]
  },
  {
   "cell_type": "code",
   "execution_count": 20,
   "metadata": {},
   "outputs": [
    {
     "data": {
      "text/plain": [
       "(tensor([[[1., 2., 3.],\n",
       "          [4., 5., 6.],\n",
       "          [7., 8., 9.]]]),\n",
       " tensor([[[1, 2, 3],\n",
       "          [4, 5, 6],\n",
       "          [7, 8, 9]]]))"
      ]
     },
     "execution_count": 20,
     "metadata": {},
     "output_type": "execute_result"
    }
   ],
   "source": [
    "t.type(torch.float32), t.to('cpu')"
   ]
  },
  {
   "cell_type": "markdown",
   "metadata": {},
   "source": [
    "## 5. Tensor manipulation\n",
    "\n",
    "Tensor operations include: \n",
    "* Addition\n",
    "* Subtraction\n",
    "* Multiplication (element-wise)\n",
    "* Division\n",
    "* Power\n",
    "* Matrix multiplication\n",
    "* Transpose\n"
   ]
  },
  {
   "cell_type": "code",
   "execution_count": 21,
   "metadata": {},
   "outputs": [
    {
     "data": {
      "text/plain": [
       "tensor([[1, 2],\n",
       "        [3, 4]])"
      ]
     },
     "execution_count": 21,
     "metadata": {},
     "output_type": "execute_result"
    }
   ],
   "source": [
    "m"
   ]
  },
  {
   "cell_type": "code",
   "execution_count": 22,
   "metadata": {},
   "outputs": [
    {
     "data": {
      "text/plain": [
       "(tensor([[11, 12],\n",
       "         [13, 14]]),\n",
       " tensor([[11, 12],\n",
       "         [13, 14]]))"
      ]
     },
     "execution_count": 22,
     "metadata": {},
     "output_type": "execute_result"
    }
   ],
   "source": [
    "m + 10, m.add(10)"
   ]
  },
  {
   "cell_type": "code",
   "execution_count": 23,
   "metadata": {},
   "outputs": [
    {
     "data": {
      "text/plain": [
       "(tensor([[0, 1],\n",
       "         [2, 3]]),\n",
       " tensor([[0, 1],\n",
       "         [2, 3]]))"
      ]
     },
     "execution_count": 23,
     "metadata": {},
     "output_type": "execute_result"
    }
   ],
   "source": [
    "m - 1, m.sub(1)"
   ]
  },
  {
   "cell_type": "code",
   "execution_count": 24,
   "metadata": {},
   "outputs": [
    {
     "data": {
      "text/plain": [
       "(tensor([[2, 4],\n",
       "         [6, 8]]),\n",
       " tensor([[2, 4],\n",
       "         [6, 8]]))"
      ]
     },
     "execution_count": 24,
     "metadata": {},
     "output_type": "execute_result"
    }
   ],
   "source": [
    "m * 2, m.mul(2)"
   ]
  },
  {
   "cell_type": "code",
   "execution_count": 25,
   "metadata": {},
   "outputs": [
    {
     "data": {
      "text/plain": [
       "(tensor([[0.5000, 1.0000],\n",
       "         [1.5000, 2.0000]]),\n",
       " tensor([[0.5000, 1.0000],\n",
       "         [1.5000, 2.0000]]))"
      ]
     },
     "execution_count": 25,
     "metadata": {},
     "output_type": "execute_result"
    }
   ],
   "source": [
    "m / 2, m.div(2)"
   ]
  },
  {
   "cell_type": "code",
   "execution_count": 26,
   "metadata": {},
   "outputs": [
    {
     "data": {
      "text/plain": [
       "(tensor([[ 1,  4],\n",
       "         [ 9, 16]]),\n",
       " tensor([[ 1,  4],\n",
       "         [ 9, 16]]))"
      ]
     },
     "execution_count": 26,
     "metadata": {},
     "output_type": "execute_result"
    }
   ],
   "source": [
    "m ** 2, m.pow(2)"
   ]
  },
  {
   "cell_type": "code",
   "execution_count": 27,
   "metadata": {},
   "outputs": [
    {
     "data": {
      "text/plain": [
       "(tensor([[ 1,  4],\n",
       "         [ 9, 16]]),\n",
       " tensor([[ 1,  4],\n",
       "         [ 9, 16]]))"
      ]
     },
     "execution_count": 27,
     "metadata": {},
     "output_type": "execute_result"
    }
   ],
   "source": [
    "m * m, m.mul(m)"
   ]
  },
  {
   "cell_type": "code",
   "execution_count": 28,
   "metadata": {},
   "outputs": [
    {
     "data": {
      "text/plain": [
       "(tensor([[ 7, 10],\n",
       "         [15, 22]]),\n",
       " tensor([[ 7, 10],\n",
       "         [15, 22]]),\n",
       " tensor([[ 7, 10],\n",
       "         [15, 22]]))"
      ]
     },
     "execution_count": 28,
     "metadata": {},
     "output_type": "execute_result"
    }
   ],
   "source": [
    "m @ m, m.matmul(m), m.mm(m)"
   ]
  },
  {
   "cell_type": "code",
   "execution_count": 29,
   "metadata": {},
   "outputs": [
    {
     "data": {
      "text/plain": [
       "(tensor([[1, 2],\n",
       "         [3, 4]]),\n",
       " tensor([[1, 3],\n",
       "         [2, 4]]))"
      ]
     },
     "execution_count": 29,
     "metadata": {},
     "output_type": "execute_result"
    }
   ],
   "source": [
    "m, m.T"
   ]
  },
  {
   "cell_type": "markdown",
   "metadata": {},
   "source": [
    "## 6. Tensor aggregation\n",
    "- `tensor.min()`\n",
    "- `tensor.max()`\n",
    "- `tensor.mean()` **Note:** input tensor dtype should be float or complex\n",
    "- `tensor.sum()`\n",
    "- `tensor.median()`\n",
    "\n"
   ]
  },
  {
   "cell_type": "code",
   "execution_count": 30,
   "metadata": {},
   "outputs": [
    {
     "data": {
      "text/plain": [
       "tensor([ 1.,  8., 15., 22., 29., 36., 43., 50., 57., 64., 71., 78., 85., 92.,\n",
       "        99.])"
      ]
     },
     "execution_count": 30,
     "metadata": {},
     "output_type": "execute_result"
    }
   ],
   "source": [
    "x = torch.arange(start=1, end=100, step=7, dtype=torch.float32)\n",
    "x"
   ]
  },
  {
   "cell_type": "code",
   "execution_count": 31,
   "metadata": {},
   "outputs": [
    {
     "data": {
      "text/plain": [
       "(tensor(1.), tensor(99.), tensor(50.), tensor(750.), tensor(50.))"
      ]
     },
     "execution_count": 31,
     "metadata": {},
     "output_type": "execute_result"
    }
   ],
   "source": [
    "x.min(), x.max(), x.mean(), x.sum(), x.median()"
   ]
  },
  {
   "cell_type": "markdown",
   "metadata": {},
   "source": [
    "## 7. Tensor min/max position\n",
    "- `tensor.argmin()`\n",
    "- `tensor.argmax()`\n",
    "- `tensor.argsort()` returns the indices that sort a tensor along a given dimension in ascending order by value."
   ]
  },
  {
   "cell_type": "code",
   "execution_count": 32,
   "metadata": {},
   "outputs": [
    {
     "data": {
      "text/plain": [
       "tensor([[0.0284, 0.2279, 0.2212],\n",
       "        [0.0659, 0.7215, 0.3095],\n",
       "        [0.1929, 0.7083, 0.6856]])"
      ]
     },
     "execution_count": 32,
     "metadata": {},
     "output_type": "execute_result"
    }
   ],
   "source": [
    "x = torch.rand(3,3)\n",
    "x"
   ]
  },
  {
   "cell_type": "code",
   "execution_count": 33,
   "metadata": {},
   "outputs": [
    {
     "data": {
      "text/plain": [
       "(tensor(0), tensor(4))"
      ]
     },
     "execution_count": 33,
     "metadata": {},
     "output_type": "execute_result"
    }
   ],
   "source": [
    "x.argmin(), x.argmax()"
   ]
  },
  {
   "cell_type": "code",
   "execution_count": 34,
   "metadata": {},
   "outputs": [
    {
     "data": {
      "text/plain": [
       "(tensor([[0, 0, 0],\n",
       "         [1, 2, 1],\n",
       "         [2, 1, 2]]),\n",
       " tensor([[0, 2, 1],\n",
       "         [0, 2, 1],\n",
       "         [0, 2, 1]]))"
      ]
     },
     "execution_count": 34,
     "metadata": {},
     "output_type": "execute_result"
    }
   ],
   "source": [
    "x.argsort(dim=0), x.argsort(dim=1)"
   ]
  },
  {
   "cell_type": "markdown",
   "metadata": {},
   "source": [
    "## 8. Tensor reshape\n",
    "- `tensor.reshape()` is equal to `tensor.view()` if `tensor.is_contiguous()` else `tensor.congiguous().view()`.\n",
    "- `torch.stack()` concatenates a sequence of tensors **along a new dimension**.\n",
    "- `torch.cat()` concatenates the given sequence of tensors **in the given dimension**.\n",
    "- `torch.vstack()` equals `torch.cat(dim=0)`; `torch.hstack()` equals `torch.cat(dim=1)`.\n",
    "- `tensor.squeeze()` removes all single dimensions.\n",
    "- `tensor.unsqueeze()` adds a new single dimension at the specific position.\n",
    "- `tensor.permute()` returns a **view** of the original tensor input with its dimensions permuted."
   ]
  },
  {
   "cell_type": "code",
   "execution_count": 35,
   "metadata": {},
   "outputs": [
    {
     "data": {
      "text/plain": [
       "tensor([[0, 1, 2],\n",
       "        [3, 4, 5],\n",
       "        [6, 7, 8]])"
      ]
     },
     "execution_count": 35,
     "metadata": {},
     "output_type": "execute_result"
    }
   ],
   "source": [
    "x = torch.arange(9).reshape(3,3)\n",
    "x"
   ]
  },
  {
   "cell_type": "code",
   "execution_count": 36,
   "metadata": {},
   "outputs": [
    {
     "data": {
      "text/plain": [
       "(tensor([[0, 1, 2, 3, 4, 5, 6, 7, 8]]),\n",
       " tensor([[0],\n",
       "         [1],\n",
       "         [2],\n",
       "         [3],\n",
       "         [4],\n",
       "         [5],\n",
       "         [6],\n",
       "         [7],\n",
       "         [8]]))"
      ]
     },
     "execution_count": 36,
     "metadata": {},
     "output_type": "execute_result"
    }
   ],
   "source": [
    "x.reshape(1,-1), x.reshape(-1,1)"
   ]
  },
  {
   "cell_type": "code",
   "execution_count": 37,
   "metadata": {},
   "outputs": [
    {
     "data": {
      "text/plain": [
       "(tensor([[[0, 1, 2],\n",
       "          [3, 4, 5],\n",
       "          [6, 7, 8]],\n",
       " \n",
       "         [[0, 1, 2],\n",
       "          [3, 4, 5],\n",
       "          [6, 7, 8]]]),\n",
       " tensor([[[0, 1, 2],\n",
       "          [0, 1, 2]],\n",
       " \n",
       "         [[3, 4, 5],\n",
       "          [3, 4, 5]],\n",
       " \n",
       "         [[6, 7, 8],\n",
       "          [6, 7, 8]]]))"
      ]
     },
     "execution_count": 37,
     "metadata": {},
     "output_type": "execute_result"
    }
   ],
   "source": [
    "torch.stack((x, x), dim=0), torch.stack((x, x), dim=1)"
   ]
  },
  {
   "cell_type": "code",
   "execution_count": 38,
   "metadata": {},
   "outputs": [
    {
     "data": {
      "text/plain": [
       "(tensor([[0, 1, 2],\n",
       "         [3, 4, 5],\n",
       "         [6, 7, 8],\n",
       "         [0, 1, 2],\n",
       "         [3, 4, 5],\n",
       "         [6, 7, 8]]),\n",
       " tensor([[0, 1, 2, 0, 1, 2],\n",
       "         [3, 4, 5, 3, 4, 5],\n",
       "         [6, 7, 8, 6, 7, 8]]))"
      ]
     },
     "execution_count": 38,
     "metadata": {},
     "output_type": "execute_result"
    }
   ],
   "source": [
    "torch.vstack((x, x)), torch.hstack((x, x))"
   ]
  },
  {
   "cell_type": "code",
   "execution_count": 39,
   "metadata": {},
   "outputs": [
    {
     "data": {
      "text/plain": [
       "(tensor([[0, 1, 2],\n",
       "         [3, 4, 5],\n",
       "         [6, 7, 8],\n",
       "         [0, 1, 2],\n",
       "         [3, 4, 5],\n",
       "         [6, 7, 8]]),\n",
       " tensor([[0, 1, 2, 0, 1, 2],\n",
       "         [3, 4, 5, 3, 4, 5],\n",
       "         [6, 7, 8, 6, 7, 8]]))"
      ]
     },
     "execution_count": 39,
     "metadata": {},
     "output_type": "execute_result"
    }
   ],
   "source": [
    "torch.cat((x, x), dim=0), torch.cat((x, x), dim=1)"
   ]
  },
  {
   "cell_type": "code",
   "execution_count": 40,
   "metadata": {},
   "outputs": [
    {
     "data": {
      "text/plain": [
       "tensor([0, 1, 2, 3, 4, 5, 6, 7, 8])"
      ]
     },
     "execution_count": 40,
     "metadata": {},
     "output_type": "execute_result"
    }
   ],
   "source": [
    "x.reshape(-1,1).squeeze()"
   ]
  },
  {
   "cell_type": "code",
   "execution_count": 41,
   "metadata": {},
   "outputs": [
    {
     "data": {
      "text/plain": [
       "(torch.Size([3, 3]),\n",
       " torch.Size([1, 3, 3]),\n",
       " torch.Size([3, 1, 3]),\n",
       " torch.Size([3, 3, 1]))"
      ]
     },
     "execution_count": 41,
     "metadata": {},
     "output_type": "execute_result"
    }
   ],
   "source": [
    "x.shape, x.unsqueeze(0).shape, x.unsqueeze(1).shape, x.unsqueeze(2).shape"
   ]
  },
  {
   "cell_type": "code",
   "execution_count": 42,
   "metadata": {},
   "outputs": [
    {
     "data": {
      "text/plain": [
       "torch.Size([3, 10, 10])"
      ]
     },
     "execution_count": 42,
     "metadata": {},
     "output_type": "execute_result"
    }
   ],
   "source": [
    "# x is an image with shape (height, width, depth). tensor.permute converts it into (depth, height, width)\n",
    "x = torch.rand((10, 10, 3))\n",
    "x.permute((2, 0, 1)).shape"
   ]
  },
  {
   "cell_type": "markdown",
   "metadata": {},
   "source": [
    "## 8. PyTorch tensor <=> Numpy array\n",
    "\n",
    "- `torch.from_numpy()` The output tensor retains the default datatype of array.\n",
    "- `tensor.numpy()` The output array retains the default datatype of tensor.\n",
    "  \n",
    "**Note:** These two functions return the output sharing the same memory of input"
   ]
  },
  {
   "cell_type": "code",
   "execution_count": 43,
   "metadata": {},
   "outputs": [
    {
     "data": {
      "text/plain": [
       "(array([0., 1., 2., 3., 4.]),\n",
       " tensor([0., 1., 2., 3., 4.], dtype=torch.float64),\n",
       " dtype('float64'),\n",
       " torch.float64)"
      ]
     },
     "execution_count": 43,
     "metadata": {},
     "output_type": "execute_result"
    }
   ],
   "source": [
    "array = np.arange(5.)\n",
    "tensor = torch.from_numpy(array)\n",
    "array, tensor, array.dtype, tensor.dtype"
   ]
  },
  {
   "cell_type": "code",
   "execution_count": 44,
   "metadata": {},
   "outputs": [
    {
     "data": {
      "text/plain": [
       "(array([1., 2., 3., 4., 5.]),\n",
       " tensor([1., 2., 3., 4., 5.], dtype=torch.float64))"
      ]
     },
     "execution_count": 44,
     "metadata": {},
     "output_type": "execute_result"
    }
   ],
   "source": [
    "array += 1\n",
    "array, tensor"
   ]
  },
  {
   "cell_type": "code",
   "execution_count": 45,
   "metadata": {},
   "outputs": [
    {
     "data": {
      "text/plain": [
       "(array([1., 2., 3., 4., 5.]),\n",
       " tensor([1., 2., 3., 4., 5.], dtype=torch.float64))"
      ]
     },
     "execution_count": 45,
     "metadata": {},
     "output_type": "execute_result"
    }
   ],
   "source": [
    "array = tensor.numpy()\n",
    "array, tensor"
   ]
  },
  {
   "cell_type": "code",
   "execution_count": 46,
   "metadata": {},
   "outputs": [
    {
     "data": {
      "text/plain": [
       "(array([2., 3., 4., 5., 6.]),\n",
       " tensor([2., 3., 4., 5., 6.], dtype=torch.float64))"
      ]
     },
     "execution_count": 46,
     "metadata": {},
     "output_type": "execute_result"
    }
   ],
   "source": [
    "tensor.add_(1)\n",
    "array, tensor"
   ]
  },
  {
   "cell_type": "markdown",
   "metadata": {},
   "source": [
    "## 9. Reproducibility/Seed\n",
    "\n",
    "```py\n",
    "import torch\n",
    "torch.manual_seed(0)\n",
    "import random\n",
    "random.seed(0)\n",
    "import numpy as np\n",
    "np.random.seed(0)\n",
    "```"
   ]
  }
 ],
 "metadata": {
  "kernelspec": {
   "display_name": "Python 3.9.12 ('base')",
   "language": "python",
   "name": "python3"
  },
  "language_info": {
   "codemirror_mode": {
    "name": "ipython",
    "version": 3
   },
   "file_extension": ".py",
   "mimetype": "text/x-python",
   "name": "python",
   "nbconvert_exporter": "python",
   "pygments_lexer": "ipython3",
   "version": "3.9.12"
  },
  "orig_nbformat": 4,
  "vscode": {
   "interpreter": {
    "hash": "b6e2d3597ff9ed78c771c47542a812a72b7538ab9407ef16cb77f481e17dc9d4"
   }
  }
 },
 "nbformat": 4,
 "nbformat_minor": 2
}
