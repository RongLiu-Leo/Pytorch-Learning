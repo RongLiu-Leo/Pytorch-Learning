{
 "cells": [
  {
   "cell_type": "markdown",
   "metadata": {},
   "source": [
    "## PyTorch Fundamentals"
   ]
  },
  {
   "cell_type": "markdown",
   "metadata": {},
   "source": [
    "### Import libraries"
   ]
  },
  {
   "cell_type": "code",
   "execution_count": 123,
   "metadata": {},
   "outputs": [
    {
     "data": {
      "text/plain": [
       "'1.13.0'"
      ]
     },
     "execution_count": 123,
     "metadata": {},
     "output_type": "execute_result"
    }
   ],
   "source": [
    "import torch\n",
    "\n",
    "torch.__version__"
   ]
  },
  {
   "cell_type": "markdown",
   "metadata": {},
   "source": [
    "### Introdunction to Tensors\n",
    "\n",
    "**Note:** Three common errors:\n",
    "1. Tensors with incorrect datatype\n",
    "2. Tensors with unmatched shape\n",
    "3. Tensors running on the different devices"
   ]
  },
  {
   "cell_type": "markdown",
   "metadata": {},
   "source": [
    "### Create Tensors\n"
   ]
  },
  {
   "cell_type": "markdown",
   "metadata": {},
   "source": [
    "#### Creating tensors using [`torch.tensor()`](https://pytorch.org/docs/stable/tensors.html)."
   ]
  },
  {
   "cell_type": "code",
   "execution_count": 124,
   "metadata": {},
   "outputs": [
    {
     "data": {
      "text/plain": [
       "tensor(7)"
      ]
     },
     "execution_count": 124,
     "metadata": {},
     "output_type": "execute_result"
    }
   ],
   "source": [
    "#Scalar\n",
    "s = torch.tensor(7)\n",
    "s"
   ]
  },
  {
   "cell_type": "code",
   "execution_count": 125,
   "metadata": {},
   "outputs": [
    {
     "data": {
      "text/plain": [
       "tensor([1, 2])"
      ]
     },
     "execution_count": 125,
     "metadata": {},
     "output_type": "execute_result"
    }
   ],
   "source": [
    "#Vector\n",
    "v = torch.tensor([1,2])\n",
    "v"
   ]
  },
  {
   "cell_type": "code",
   "execution_count": 126,
   "metadata": {},
   "outputs": [
    {
     "data": {
      "text/plain": [
       "tensor([[1, 2],\n",
       "        [3, 4]])"
      ]
     },
     "execution_count": 126,
     "metadata": {},
     "output_type": "execute_result"
    }
   ],
   "source": [
    "#Matrix\n",
    "m = torch.tensor([[1,2],\n",
    "                  [3,4]])\n",
    "m"
   ]
  },
  {
   "cell_type": "code",
   "execution_count": 127,
   "metadata": {},
   "outputs": [
    {
     "data": {
      "text/plain": [
       "tensor([[[1, 2, 3],\n",
       "         [4, 5, 6],\n",
       "         [7, 8, 9]]])"
      ]
     },
     "execution_count": 127,
     "metadata": {},
     "output_type": "execute_result"
    }
   ],
   "source": [
    "#Tensor\n",
    "t = torch.tensor([[[1,2,3],\n",
    "                    [4,5,6],\n",
    "                    [7,8,9]]])\n",
    "t"
   ]
  },
  {
   "cell_type": "markdown",
   "metadata": {},
   "source": [
    "#### Creating random tensors\n",
    "Initialize tensors with random numbers.\n",
    "- [`torch.rand()`](https://pytorch.org/docs/stable/generated/torch.rand.html) returns a tensor filled with random numbers from a **uniform distribution** on the interval [0,1).\n",
    "- [`torch.randint()`](https://pytorch.org/docs/stable/generated/torch.randint.html) returns a tensor filled with **random integers generated uniformly** between [low, high).\n",
    "- [`torch.randn()`](https://pytorch.org/docs/stable/generated/torch.randn.html)\n",
    "returns a tensor filled with random numbers from a **standard normal distribution**.\n",
    "- [`torch.randperm()`](https://pytorch.org/docs/stable/generated/torch.randperm.html) returns a **random permutation of integers** from [0,n).\n",
    "\n"
   ]
  },
  {
   "cell_type": "code",
   "execution_count": 128,
   "metadata": {},
   "outputs": [
    {
     "name": "stdout",
     "output_type": "stream",
     "text": [
      "tensor([0.9017, 0.1077, 0.8662, 0.6825])\n",
      "tensor([[0.6908, 0.3300, 0.8046],\n",
      "        [0.7606, 0.8698, 0.4297]])\n"
     ]
    }
   ],
   "source": [
    "#input size\n",
    "print(torch.rand(4))\n",
    "print(torch.rand(2, 3))"
   ]
  },
  {
   "cell_type": "code",
   "execution_count": 129,
   "metadata": {},
   "outputs": [
    {
     "name": "stdout",
     "output_type": "stream",
     "text": [
      "tensor([3, 4, 4])\n",
      "tensor([[0, 0],\n",
      "        [9, 8]])\n"
     ]
    }
   ],
   "source": [
    "#input low, high, size. default low = 0.\n",
    "print(torch.randint(3, 5, (3,)))\n",
    "print(torch.randint(10, (2, 2)))"
   ]
  },
  {
   "cell_type": "code",
   "execution_count": 130,
   "metadata": {},
   "outputs": [
    {
     "name": "stdout",
     "output_type": "stream",
     "text": [
      "tensor([-0.5305, -0.5016, -0.5981, -0.7841])\n",
      "tensor([[-0.1742,  0.1151, -0.1927],\n",
      "        [-0.3984, -0.9073,  0.6363]])\n"
     ]
    }
   ],
   "source": [
    "#input size\n",
    "print(torch.randn(4))\n",
    "print(torch.randn(2, 3))"
   ]
  },
  {
   "cell_type": "code",
   "execution_count": 131,
   "metadata": {},
   "outputs": [
    {
     "name": "stdout",
     "output_type": "stream",
     "text": [
      "tensor([1, 0, 3, 2])\n"
     ]
    }
   ],
   "source": [
    "#input upper bound n (exclusive)\n",
    "print(torch.randperm(4))"
   ]
  },
  {
   "cell_type": "markdown",
   "metadata": {},
   "source": [
    "#### Zeros and ones and other values\n",
    "Initialize tensors with specific values.\n",
    "- [`torch.zeros()`](https://pytorch.org/docs/stable/generated/torch.zeros.html#torch.zeros) returns a tensor filled with **the scalar value 0**.\n",
    "- [`torch.ones()`](https://pytorch.org/docs/stable/generated/torch.ones.html#torch.ones) returns a tensor filled with **the scalar value 1**.\n",
    "- [`torch.full()`](https://pytorch.org/docs/stable/generated/torch.full.html#torch.full)\n",
    "returns a tensor filled with **fill_value**.\n",
    "\n",
    "\n"
   ]
  },
  {
   "cell_type": "code",
   "execution_count": 132,
   "metadata": {},
   "outputs": [
    {
     "name": "stdout",
     "output_type": "stream",
     "text": [
      "tensor([[0., 0., 0.],\n",
      "        [0., 0., 0.]])\n",
      "tensor([[1., 1., 1.],\n",
      "        [1., 1., 1.]])\n",
      "tensor([[3, 3, 3],\n",
      "        [3, 3, 3]])\n"
     ]
    }
   ],
   "source": [
    "print(torch.zeros(2, 3))\n",
    "print(torch.ones(2, 3))\n",
    "print(torch.full((2, 3), 3))\n"
   ]
  },
  {
   "cell_type": "markdown",
   "metadata": {},
   "source": [
    "#### Creating a range of tensors\n",
    "- [`torch.arange()`](https://pytorch.org/docs/stable/generated/torch.arange.html) returns a 1-D tensor of size $\\left\\lceil \\frac{\\text{end} - \\text{start}}{\\text{step}} \\right\\rceil$ with values from the interval `[start, end)` taken with common difference `step` beginning from `start`.\n",
    "- [`torch.linspace()`](https://pytorch.org/docs/stable/generated/torch.linspace.html#torch.linspace) creates a 1-D tensor of size steps whose values are evenly spaced from [`start`, `end`]."
   ]
  },
  {
   "cell_type": "code",
   "execution_count": 133,
   "metadata": {},
   "outputs": [
    {
     "name": "stdout",
     "output_type": "stream",
     "text": [
      "tensor([0, 1, 2, 3, 4])\n",
      "tensor([1, 2, 3])\n",
      "tensor([ 1,  8, 15, 22, 29, 36, 43, 50, 57, 64, 71, 78, 85, 92, 99])\n"
     ]
    }
   ],
   "source": [
    "#input start, end, step. default start = 0.\n",
    "print(torch.arange(5))\n",
    "print(torch.arange(1, 4))\n",
    "print(torch.arange(1, 100, 7))"
   ]
  },
  {
   "cell_type": "code",
   "execution_count": 134,
   "metadata": {},
   "outputs": [
    {
     "name": "stdout",
     "output_type": "stream",
     "text": [
      "tensor([ 3.0000,  4.7500,  6.5000,  8.2500, 10.0000])\n",
      "tensor([1., 2., 3., 4.])\n",
      "tensor([1.])\n"
     ]
    }
   ],
   "source": [
    "#input start, end, step\n",
    "print(torch.linspace(3, 10, 5))\n",
    "print(torch.linspace(1, 4, 4))\n",
    "print(torch.linspace(1, 100, 1))"
   ]
  },
  {
   "cell_type": "markdown",
   "metadata": {},
   "source": [
    "#### Creating tensors with tensor-like\n"
   ]
  },
  {
   "cell_type": "code",
   "execution_count": 135,
   "metadata": {},
   "outputs": [
    {
     "data": {
      "text/plain": [
       "(tensor([[[1, 2, 3],\n",
       "          [4, 5, 6],\n",
       "          [7, 8, 9]]]),\n",
       " torch.Size([1, 3, 3]))"
      ]
     },
     "execution_count": 135,
     "metadata": {},
     "output_type": "execute_result"
    }
   ],
   "source": [
    "t, t.shape"
   ]
  },
  {
   "cell_type": "code",
   "execution_count": 136,
   "metadata": {},
   "outputs": [
    {
     "name": "stdout",
     "output_type": "stream",
     "text": [
      "tensor([[[0, 0, 0],\n",
      "         [0, 0, 0],\n",
      "         [0, 0, 0]]])\n",
      "tensor([[[1, 1, 1],\n",
      "         [1, 1, 1],\n",
      "         [1, 1, 1]]])\n",
      "tensor([[[8, 8, 8],\n",
      "         [8, 8, 8],\n",
      "         [8, 8, 8]]])\n"
     ]
    }
   ],
   "source": [
    "print(torch.zeros_like(t))\n",
    "print(torch.ones_like(t))\n",
    "print(torch.full_like(t, fill_value = 8))\n"
   ]
  },
  {
   "cell_type": "markdown",
   "metadata": {},
   "source": [
    "### Tensor attributes"
   ]
  },
  {
   "cell_type": "markdown",
   "metadata": {},
   "source": [
    "`tensor.ndim` shows the dimention while `tensor.shape` shows the size/shape.\n",
    "\n",
    "Intuitively, `tensor.ndim` is equal to the number left brackets at beginning."
   ]
  },
  {
   "cell_type": "code",
   "execution_count": 137,
   "metadata": {},
   "outputs": [
    {
     "name": "stdout",
     "output_type": "stream",
     "text": [
      "scalar\n",
      "tensor(7)\n",
      "0\n",
      "torch.Size([])\n",
      "\n",
      "vector\n",
      "tensor([1, 2])\n",
      "1\n",
      "torch.Size([2])\n",
      "\n",
      "matrix\n",
      "tensor([[1, 2],\n",
      "        [3, 4]])\n",
      "2\n",
      "torch.Size([2, 2])\n",
      "\n",
      "tensor\n",
      "tensor([[[1, 2, 3],\n",
      "         [4, 5, 6],\n",
      "         [7, 8, 9]]])\n",
      "3\n",
      "torch.Size([1, 3, 3])\n"
     ]
    }
   ],
   "source": [
    "print('scalar')\n",
    "print(s)\n",
    "print(s.ndim)\n",
    "print(s.shape)\n",
    "print()\n",
    "print('vector')\n",
    "print(v)\n",
    "print(v.ndim)\n",
    "print(v.shape)\n",
    "print()\n",
    "print('matrix')\n",
    "print(m)\n",
    "print(m.ndim)\n",
    "print(m.shape)\n",
    "print()\n",
    "print('tensor')\n",
    "print(t)\n",
    "print(t.ndim)\n",
    "print(t.shape)\n"
   ]
  },
  {
   "cell_type": "markdown",
   "metadata": {},
   "source": [
    "`tensor.item()` converts one-element tensor to Python scalars"
   ]
  },
  {
   "cell_type": "code",
   "execution_count": 138,
   "metadata": {},
   "outputs": [
    {
     "data": {
      "text/plain": [
       "7"
      ]
     },
     "execution_count": 138,
     "metadata": {},
     "output_type": "execute_result"
    }
   ],
   "source": [
    "s.item()"
   ]
  },
  {
   "cell_type": "markdown",
   "metadata": {},
   "source": [
    "`tensor[]` slices tensors\n",
    "\n",
    ": indicates the range. e.g. [start, end)\n",
    "\n",
    ", splits the dims."
   ]
  },
  {
   "cell_type": "code",
   "execution_count": 139,
   "metadata": {},
   "outputs": [
    {
     "name": "stdout",
     "output_type": "stream",
     "text": [
      "tensor([1, 2])\n",
      "tensor([1, 3])\n"
     ]
    }
   ],
   "source": [
    "print(m[0])     #shows the first row, equals m[0,:]\n",
    "print(m[:,0])   #shows the first column"
   ]
  },
  {
   "cell_type": "code",
   "execution_count": 140,
   "metadata": {},
   "outputs": [
    {
     "name": "stdout",
     "output_type": "stream",
     "text": [
      "tensor([[1, 2, 3],\n",
      "        [4, 5, 6],\n",
      "        [7, 8, 9]])\n",
      "tensor([[1, 2, 3]])\n",
      "tensor([[1, 4, 7]])\n"
     ]
    }
   ],
   "source": [
    "print(t[0])     \n",
    "print(t[:,0])   \n",
    "print(t[:,:,0])"
   ]
  },
  {
   "cell_type": "markdown",
   "metadata": {},
   "source": [
    "`tensor.dtype` shows the data type of the tensor. `tensor.type()` changes datatype.\n",
    "\n",
    "`torch.device` is an object representing the device (`'cpu'` or `'cuda'`) on which a `torch.Tensor` is or will be allocated. `tensor.to()` changes the allocated device."
   ]
  },
  {
   "cell_type": "code",
   "execution_count": 141,
   "metadata": {},
   "outputs": [
    {
     "data": {
      "text/plain": [
       "(torch.int64, device(type='cpu'))"
      ]
     },
     "execution_count": 141,
     "metadata": {},
     "output_type": "execute_result"
    }
   ],
   "source": [
    "t.dtype, t.device"
   ]
  },
  {
   "cell_type": "code",
   "execution_count": 142,
   "metadata": {},
   "outputs": [
    {
     "data": {
      "text/plain": [
       "(tensor([[[1., 2., 3.],\n",
       "          [4., 5., 6.],\n",
       "          [7., 8., 9.]]]),\n",
       " tensor([[[1, 2, 3],\n",
       "          [4, 5, 6],\n",
       "          [7, 8, 9]]]))"
      ]
     },
     "execution_count": 142,
     "metadata": {},
     "output_type": "execute_result"
    }
   ],
   "source": [
    "t.type(torch.float32), t.to('cpu')"
   ]
  },
  {
   "cell_type": "markdown",
   "metadata": {},
   "source": []
  }
 ],
 "metadata": {
  "kernelspec": {
   "display_name": "Python 3.9.12 ('base')",
   "language": "python",
   "name": "python3"
  },
  "language_info": {
   "codemirror_mode": {
    "name": "ipython",
    "version": 3
   },
   "file_extension": ".py",
   "mimetype": "text/x-python",
   "name": "python",
   "nbconvert_exporter": "python",
   "pygments_lexer": "ipython3",
   "version": "3.9.12"
  },
  "orig_nbformat": 4,
  "vscode": {
   "interpreter": {
    "hash": "b6e2d3597ff9ed78c771c47542a812a72b7538ab9407ef16cb77f481e17dc9d4"
   }
  }
 },
 "nbformat": 4,
 "nbformat_minor": 2
}
